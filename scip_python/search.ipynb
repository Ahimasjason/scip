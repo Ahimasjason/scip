{
 "cells": [
  {
   "cell_type": "markdown",
   "metadata": {},
   "source": [
    "### DNA Search"
   ]
  },
  {
   "cell_type": "code",
   "execution_count": 11,
   "metadata": {},
   "outputs": [],
   "source": [
    "from enum import IntEnum\n",
    "from typing import Tuple,List\n",
    "import random"
   ]
  },
  {
   "cell_type": "code",
   "execution_count": 2,
   "metadata": {},
   "outputs": [],
   "source": [
    "Nucleotide: IntEnum = IntEnum('Nucleotide',('A','C','G','T'))"
   ]
  },
  {
   "cell_type": "code",
   "execution_count": 4,
   "metadata": {},
   "outputs": [],
   "source": [
    "# combination of three nucletoide called `candon`\n",
    "Condon = Tuple[Nucleotide,Nucleotide,Nucleotide]\n",
    "Gene = List[Condon]"
   ]
  },
  {
   "cell_type": "code",
   "execution_count": 10,
   "metadata": {},
   "outputs": [],
   "source": [
    "def string_to_gene(s: str) -> Gene:\n",
    "    gene = []\n",
    "    for i in range(0,len(s),3):\n",
    "        if (i + 2) > len(s):\n",
    "            return gene\n",
    "        gene.append(\n",
    "            (\n",
    "            Nucleotide[s[i]],\n",
    "            Nucleotide[s[i + 1]],\n",
    "            Nucleotide[s[i + 2]]\n",
    "            )\n",
    "        )\n",
    "    return gene"
   ]
  },
  {
   "cell_type": "code",
   "execution_count": 18,
   "metadata": {},
   "outputs": [],
   "source": [
    "_genes = 'A C G T'.split()\n",
    "gene_str = \"\".join(random.choice(_genes) for _ in range(100) )\n",
    "transmormed = string_to_gene(gene_str)"
   ]
  },
  {
   "cell_type": "code",
   "execution_count": null,
   "metadata": {},
   "outputs": [],
   "source": []
  },
  {
   "cell_type": "code",
   "execution_count": 15,
   "metadata": {},
   "outputs": [],
   "source": [
    "def linear_contains(gene: Gene, key_condon:Condon) -> bool:\n",
    "    for condon in gene:\n",
    "        if condon == key_condon:\n",
    "            return True\n",
    "    return False"
   ]
  },
  {
   "cell_type": "code",
   "execution_count": null,
   "metadata": {},
   "outputs": [],
   "source": []
  },
  {
   "cell_type": "code",
   "execution_count": 17,
   "metadata": {},
   "outputs": [],
   "source": [
    "acg = (Nucleotide.A,Nucleotide.C,Nucleotide.G)\n",
    "gat = (Nucleotide.G, Nucleotide.A, Nucleotide.T)"
   ]
  },
  {
   "cell_type": "code",
   "execution_count": 19,
   "metadata": {},
   "outputs": [
    {
     "data": {
      "text/plain": [
       "False"
      ]
     },
     "execution_count": 19,
     "metadata": {},
     "output_type": "execute_result"
    }
   ],
   "source": [
    "linear_contains(transmormed,acg)"
   ]
  },
  {
   "cell_type": "code",
   "execution_count": 21,
   "metadata": {},
   "outputs": [
    {
     "data": {
      "text/plain": [
       "True"
      ]
     },
     "execution_count": 21,
     "metadata": {},
     "output_type": "execute_result"
    }
   ],
   "source": [
    "linear_contains(transmormed,gat)"
   ]
  },
  {
   "cell_type": "code",
   "execution_count": null,
   "metadata": {},
   "outputs": [],
   "source": []
  }
 ],
 "metadata": {
  "kernelspec": {
   "display_name": "Python 3",
   "language": "python",
   "name": "python3"
  },
  "language_info": {
   "codemirror_mode": {
    "name": "ipython",
    "version": 3
   },
   "file_extension": ".py",
   "mimetype": "text/x-python",
   "name": "python",
   "nbconvert_exporter": "python",
   "pygments_lexer": "ipython3",
   "version": "3.7.6"
  }
 },
 "nbformat": 4,
 "nbformat_minor": 4
}
